{
  "nbformat": 4,
  "nbformat_minor": 0,
  "metadata": {
    "colab": {
      "provenance": []
    },
    "kernelspec": {
      "name": "python3",
      "display_name": "Python 3"
    },
    "language_info": {
      "name": "python"
    }
  },
  "cells": [
    {
      "cell_type": "markdown",
      "source": [
        "#Structured Task"
      ],
      "metadata": {
        "id": "lLOlCgxCUJZu"
      }
    },
    {
      "cell_type": "code",
      "source": [
        "!git clone https://github.com/facebookresearch/fastText.git\n",
        "%cd fastText\n",
        "!make\n",
        "!cp fasttext ../\n",
        "%cd .."
      ],
      "metadata": {
        "id": "3lFNCCxeUJA4"
      },
      "execution_count": null,
      "outputs": []
    },
    {
      "cell_type": "code",
      "source": [
        "! git clone https://github.com/facebookresearch/fastText.git\n",
        "%cd fastText\n",
        "!pip install ."
      ],
      "metadata": {
        "id": "rLkFhctiUTTH"
      },
      "execution_count": null,
      "outputs": []
    },
    {
      "cell_type": "code",
      "source": [
        "import fasttext.util\n",
        "fasttext.util.download_model('en', if_exists='ignore')  # English\n",
        "ft = fasttext.load_model('cc.en.300.bin')"
      ],
      "metadata": {
        "id": "TxOX1G4uUXmn"
      },
      "execution_count": null,
      "outputs": []
    },
    {
      "cell_type": "code",
      "source": [
        "# Download and extract the data and learn_decoder.py\n",
        "!wget --load-cookies /tmp/cookies.txt \"https://docs.google.com/uc?export=download&confirm=$(wget --quiet --save-cookies /tmp/cookies.txt --keep-session-cookies --no-check-certificate 'https://docs.google.com/uc?export=download&id=1xZaorRH-xxjfochvSesAhOTUg82_Xq56' -O- | sed -rn 's/.*confirm=([0-9A-Za-z_]+).*/\\1\\n/p')&id=1xZaorRH-xxjfochvSesAhOTUg82_Xq56\" -O files.zip && rm -rf /tmp/cookies.txt\n",
        "!unzip files.zip\n",
        "!rm files.zip"
      ],
      "metadata": {
        "id": "SMacBVeWUaSo"
      },
      "execution_count": null,
      "outputs": []
    },
    {
      "cell_type": "code",
      "source": [
        "from learn_decoder import *\n",
        "\n",
        "data = read_matrix(\"imaging_data.csv\", sep=\",\")\n",
        "concepts = np.genfromtxt('stimuli_180concepts.txt', dtype=np.dtype('U'))"
      ],
      "metadata": {
        "id": "gpj2Rr1IUfqT"
      },
      "execution_count": null,
      "outputs": []
    },
    {
      "cell_type": "code",
      "source": [
        "vectors = np.array([ft.get_word_vector(concepts[i]) for i in range(len(concepts))])\n",
        "vectors.shape"
      ],
      "metadata": {
        "id": "hgAOPbxpUgGU",
        "colab": {
          "base_uri": "https://localhost:8080/"
        },
        "outputId": "991cae03-b113-46b4-e8ad-9795b699e0f4"
      },
      "execution_count": null,
      "outputs": [
        {
          "output_type": "execute_result",
          "data": {
            "text/plain": [
              "(180, 300)"
            ]
          },
          "metadata": {},
          "execution_count": 6
        }
      ]
    },
    {
      "cell_type": "code",
      "source": [
        "def cosine_similarity(x: np.ndarray, y: np.ndarray) -> float:\n",
        "    return np.dot(x,y)/(np.linalg.norm(x)*np.linalg.norm(y))\n",
        "\n",
        "def compute_accuracy(M_decoder, test, vectors, concepts, test_concepts, accuracy_dict, avg_score_lst):\n",
        "  sum_rank = 0\n",
        "  # every row in v_pred is a single prediction\n",
        "  v_pred = (test @ M_decoder)\n",
        "  cos_dict = {}\n",
        "  for i in range(test.shape[0]):\n",
        "    for j, concept in enumerate(concepts):\n",
        "      cos_dict[concept] = cosine_similarity(vectors[j], v_pred[i])\n",
        "    rank = len(dict((k,v) for k,v in cos_dict.items() if v > cos_dict[test_concepts[i]])) + 1\n",
        "    accuracy_dict[test_concepts[i]] = rank\n",
        "    sum_rank += rank\n",
        "  avg_score_lst.append(sum_rank/10)\n"
      ],
      "metadata": {
        "id": "RrvPO386UmPu"
      },
      "execution_count": null,
      "outputs": []
    },
    {
      "cell_type": "code",
      "source": [
        "\n",
        "# Defines\n",
        "folds = 18\n",
        "accuracy_dict = {}\n",
        "avg_score_lst = []\n",
        "\n",
        "#Run Cross validation\n",
        "for fold in range(folds):\n",
        "  test = data[fold*10:(fold+1)*10,:]\n",
        "  rows_to_remove = list(range(fold*10,(fold+1)*10))\n",
        "  train = np.delete(data, rows_to_remove, axis=0)\n",
        "  vectors_train = np.delete(vectors, rows_to_remove, axis=0)\n",
        "  M_decoder = learn_decoder(train, vectors_train)\n",
        "  compute_accuracy(M_decoder, test, vectors, concepts , concepts[fold*10:(fold+1)*10], accuracy_dict, avg_score_lst)"
      ],
      "metadata": {
        "id": "tjy30PFyecAY"
      },
      "execution_count": null,
      "outputs": []
    },
    {
      "cell_type": "code",
      "source": [
        "sum = 0\n",
        "for k,v in accuracy_dict.items():\n",
        "  sum += v\n",
        "avg_rank = sum / len(accuracy_dict.items())\n",
        "print(f'Avereage rank for all items in Fast Text is {round(avg_rank,3)} ')"
      ],
      "metadata": {
        "id": "79GQgLstUpnH",
        "colab": {
          "base_uri": "https://localhost:8080/"
        },
        "outputId": "7ff975c0-42b5-4518-a55b-014fef12d2a9"
      },
      "execution_count": null,
      "outputs": [
        {
          "output_type": "stream",
          "name": "stdout",
          "text": [
            "Avereage rank for all items in Fast Text is 53.206 \n"
          ]
        }
      ]
    },
    {
      "cell_type": "code",
      "source": [
        "max(avg_score_lst)\n",
        "min(avg_score_lst)\n",
        "sum2 = 0\n",
        "for v in avg_score_lst:\n",
        "  sum2 += v\n",
        "avg_fold = sum2/len(avg_score_lst)\n",
        "avg_fold"
      ],
      "metadata": {
        "id": "CeICUtIPUr88",
        "colab": {
          "base_uri": "https://localhost:8080/"
        },
        "outputId": "461370ca-fb76-4c6d-80e1-3aed43d2a571"
      },
      "execution_count": null,
      "outputs": [
        {
          "output_type": "execute_result",
          "data": {
            "text/plain": [
              "53.20555555555555"
            ]
          },
          "metadata": {},
          "execution_count": 10
        }
      ]
    },
    {
      "cell_type": "code",
      "source": [
        "import matplotlib.pyplot as plt\n",
        "\n",
        "plt.bar([i+1 for i in range(folds)], avg_score_lst, width=0.8)\n",
        "plt.title(\"Averaged Rank Accuracy Per Fold using FastText\")\n",
        "plt.xlabel(\"fold num\")\n",
        "plt.ylabel(\"avg rank\")\n",
        "plt.xticks(range(1, folds + 1))\n",
        "plt.axhline(y=avg_rank, color='red', linestyle='--', linewidth=2, label=\"Avg\")\n",
        "plt.legend()\n",
        "plt.show()"
      ],
      "metadata": {
        "id": "ICnO06qSUuGU",
        "colab": {
          "base_uri": "https://localhost:8080/",
          "height": 472
        },
        "outputId": "0f73f55c-fe8b-487b-d4bd-584342abd4d9"
      },
      "execution_count": null,
      "outputs": [
        {
          "output_type": "display_data",
          "data": {
            "text/plain": [
              "<Figure size 640x480 with 1 Axes>"
            ],
            "image/png": "[encoded data removed]"
          },
          "metadata": {}
        }
      ]
    },
    {
      "cell_type": "markdown",
      "source": [
        "**Decoder performance evaluation on experiments 2&3 datasets**"
      ],
      "metadata": {
        "id": "oOEGQQ4JU2Cx"
      }
    },
    {
      "cell_type": "code",
      "source": [
        "from learn_decoder import *\n",
        "exp1_vecs = read_matrix(\"vectors_180concepts.GV42B300.txt\", sep=\" \")\n",
        "concepts = np.genfromtxt('stimuli_180concepts.txt', dtype=np.dtype('U')) #The names of the 180 concepts"
      ],
      "metadata": {
        "id": "wubmMVG_wK0w"
      },
      "execution_count": null,
      "outputs": []
    },
    {
      "cell_type": "code",
      "execution_count": null,
      "metadata": {
        "id": "CHvLvRuIe9wW",
        "colab": {
          "base_uri": "https://localhost:8080/"
        },
        "outputId": "d5b325b8-437e-41c4-b2fb-706f16d001c0"
      },
      "outputs": [
        {
          "output_type": "stream",
          "name": "stdout",
          "text": [
            "Mounted at /content/gdrive/\n",
            "/content/gdrive/MyDrive\n",
            "/content/gdrive/.shortcut-targets-by-id/1gFIrqTvvi6wsowcN3U2iZiVDvEC3fuxq/Structured Task (sentence decoding)\n"
          ]
        }
      ],
      "source": [
        "from google.colab import drive\n",
        "import os\n",
        "import numpy as np\n",
        "import pickle\n",
        "import string\n",
        "import sklearn\n",
        "\n",
        "drive.mount('/content/gdrive/', force_remount=True)\n",
        "%cd gdrive/MyDrive/\n",
        "%cd Structured Task (sentence decoding)"
      ]
    },
    {
      "cell_type": "code",
      "source": [
        "def read_matrix(filename, sep=\",\"):\n",
        "    lines = []\n",
        "    with open(filename) as infile:\n",
        "        for line in infile:\n",
        "            lines.append(list(map(float, line.strip().split(sep))))\n",
        "    return np.array(lines)\n",
        "\n",
        "def cosine_similarity(x: np.ndarray, y: np.ndarray) -> float:\n",
        "    return np.dot(x,y)/(np.linalg.norm(x)*np.linalg.norm(y))\n",
        "\n",
        "def learn_decoder(data, vectors):\n",
        "     \"\"\" Given data (a CxV matrix of V voxel activations per C concepts)\n",
        "     and vectors (a CxD matrix of D semantic dimensions per C concepts)\n",
        "     find a matrix M such that the dot product of M and a V-dimensional\n",
        "     data vector gives a D-dimensional decoded semantic vector.\n",
        "\n",
        "     The matrix M is learned using ridge regression:\n",
        "     https://en.wikipedia.org/wiki/Tikhonov_regularization\n",
        "     \"\"\"\n",
        "     ridge = sklearn.linear_model.RidgeCV(\n",
        "         alphas=[1, 10, .01, 100, .001, 1000, .0001, 10000, .00001, 100000, .000001, 1000000],\n",
        "         fit_intercept=False\n",
        "     )\n",
        "     ridge.fit(data, vectors)\n",
        "     return ridge.coef_.T"
      ],
      "metadata": {
        "id": "iKo2tcFfl6uk"
      },
      "execution_count": null,
      "outputs": []
    },
    {
      "cell_type": "code",
      "source": [
        "from numpy import genfromtxt\n",
        "\n",
        "with open('EXP2.pkl', 'rb') as f:\n",
        "\texp2 = pickle.load(f)\n",
        "with open('EXP3.pkl', 'rb') as f:\n",
        "\texp3 = pickle.load(f)\n",
        "\n",
        "exp1 = genfromtxt('neuralData_for_EXP1.csv', delimiter=',')\n",
        "exp1 = exp1[1:,1:]\n",
        "exp3_vecs = read_matrix(\"vectors_243sentences.GV42B300.average.txt\", sep=\" \")\n",
        "exp2_vecs = read_matrix(\"vectors_384sentences.GV42B300.average.txt\", sep=\" \")"
      ],
      "metadata": {
        "id": "IjpygBSjlXLB"
      },
      "execution_count": null,
      "outputs": []
    },
    {
      "cell_type": "code",
      "source": [
        "with open('stimuli_243sentences.txt') as file:\n",
        "    sentences3 = [line.rstrip() for line in file]\n",
        "for i,sent in enumerate(sentences3):\n",
        "  sentences3[i] = sent.translate(str.maketrans('', '', string.punctuation))\n",
        "with open('stimuli_384sentences.txt') as file:\n",
        "    sentences2 = [line.rstrip() for line in file]\n",
        "for i,sent in enumerate(sentences2):\n",
        "  sentences2[i] = sent.translate(str.maketrans('', '', string.punctuation))"
      ],
      "metadata": {
        "id": "FElGHOa5piI0"
      },
      "execution_count": null,
      "outputs": []
    },
    {
      "cell_type": "code",
      "source": [
        "def compute_accuracy(M_decoder, test, real_vecs, sentences, accuracy_dict):\n",
        "  sum_rank = 0\n",
        "  # every row in v_pred is a single prediction\n",
        "  v_pred = (test @ M_decoder)\n",
        "  cos_dict = {}\n",
        "  for i in range(test.shape[0]):\n",
        "    for j, sent in enumerate(sentences):\n",
        "      cos_dict[sent] = cosine_similarity(real_vecs[j], v_pred[i])\n",
        "    rank = len(dict((k,v) for k,v in cos_dict.items() if v > cos_dict[sentences[i]])) + 1\n",
        "    accuracy_dict[sentences[i]] = rank\n",
        "    sum_rank += rank\n",
        "  return (sum_rank/test.shape[0])\n",
        "\n",
        "#Train Decoder\n",
        "M_decoder = learn_decoder(exp1, exp1_vecs)\n",
        "#Test section\n",
        "data2 = exp2['Fmridata']\n",
        "accuracy_dict2 = {}\n",
        "data3 = exp3['Fmridata']\n",
        "accuracy_dict3 = {}\n",
        "acc2 = compute_accuracy(M_decoder, data2, exp2_vecs, sentences2 , accuracy_dict2)\n",
        "acc3 = compute_accuracy(M_decoder, data3, exp3_vecs, sentences3 , accuracy_dict3)\n",
        "print(f'Accuracy on experiment 2 data is: {acc2} , total sentences:{len(sentences2)}')\n",
        "print(f'Accuracy on experiment 3 data is: {acc3} , total sentences:{len(sentences3)}')"
      ],
      "metadata": {
        "id": "yMtlTgG5EdTb",
        "colab": {
          "base_uri": "https://localhost:8080/"
        },
        "outputId": "7519149e-e805-4e0c-ec73-fd46239f88a8"
      },
      "execution_count": null,
      "outputs": [
        {
          "output_type": "stream",
          "name": "stdout",
          "text": [
            "Accuracy on experiment 2 data is: 156.92708333333334 , total sentences:384\n",
            "Accuracy on experiment 3 data is: 100.7448559670782 , total sentences:243\n"
          ]
        }
      ]
    },
    {
      "cell_type": "markdown",
      "source": [
        "**Analyze by topics**"
      ],
      "metadata": {
        "id": "NOJzn6FaDKx1"
      }
    },
    {
      "cell_type": "code",
      "source": [
        "from statistics import mean\n",
        "\n",
        "def compute_topic_acc(data_dict,sentences,acc_dict):\n",
        "  topics = [data_dict['keyPassageCategory'][0][i][0] for i in range(len(data_dict['keyPassageCategory'][0]))]\n",
        "  topic_acc_dict = dict.fromkeys(topics,0)\n",
        "  for key in topic_acc_dict.keys():\n",
        "    topic_acc_dict[key] = []\n",
        "  for index,sentence in enumerate(sentences):\n",
        "    current_passage_id = data_dict['labelsPassageForEachSentence'][index][0]\n",
        "    current_topic_id = data_dict['labelsPassageCategory'][current_passage_id-1][0]\n",
        "    current_topic = data_dict['keyPassageCategory'][0][current_topic_id-1][0]\n",
        "    topic_acc_dict[current_topic].append(acc_dict[sentence])\n",
        "  for key in topic_acc_dict.keys():\n",
        "    topic_acc_dict[key] = sum(topic_acc_dict[key])/len(topic_acc_dict[key])\n",
        "  return topic_acc_dict"
      ],
      "metadata": {
        "id": "NXYPEIVyF3Nh"
      },
      "execution_count": null,
      "outputs": []
    },
    {
      "cell_type": "code",
      "source": [
        "topic_dict_2 = compute_topic_acc(exp2,sentences2,accuracy_dict2)\n",
        "topic_dict_3 = compute_topic_acc(exp3,sentences3,accuracy_dict3)"
      ],
      "metadata": {
        "id": "79ut0Dm7KUJb"
      },
      "execution_count": null,
      "outputs": []
    },
    {
      "cell_type": "code",
      "source": [
        "print('Dataset 2')\n",
        "dict(sorted(topic_dict_2.items(), key=lambda x: x[1]))"
      ],
      "metadata": {
        "id": "pJe9t--sLBwb",
        "colab": {
          "base_uri": "https://localhost:8080/"
        },
        "outputId": "40838efb-15f9-4faf-8ca8-e1e2b41ecf21"
      },
      "execution_count": null,
      "outputs": [
        {
          "output_type": "stream",
          "name": "stdout",
          "text": [
            "Dataset 2\n"
          ]
        },
        {
          "output_type": "execute_result",
          "data": {
            "text/plain": [
              "{'body_part': 70.4375,\n",
              " 'human': 92.75,\n",
              " 'drink_non_alcoholic': 98.9375,\n",
              " 'dwelling': 113.6875,\n",
              " 'appliance': 113.75,\n",
              " 'furniture': 131.875,\n",
              " 'kitchen_utensil': 141.25,\n",
              " 'disaster': 149.3125,\n",
              " 'fish': 152.375,\n",
              " 'tool': 153.0625,\n",
              " 'bird': 156.3125,\n",
              " 'place': 157.5,\n",
              " 'building_part': 158.625,\n",
              " 'clothing': 160.3125,\n",
              " 'weapon': 163.8125,\n",
              " 'crime': 164.875,\n",
              " 'fruit': 176.3125,\n",
              " 'landscape': 176.5,\n",
              " 'insect': 179.875,\n",
              " 'music': 185.0,\n",
              " 'vehicles_transport': 186.6875,\n",
              " 'animal': 196.25,\n",
              " 'vegetable': 237.625,\n",
              " 'profession': 249.125}"
            ]
          },
          "metadata": {},
          "execution_count": 10
        }
      ]
    },
    {
      "cell_type": "code",
      "source": [
        "print('Dataset 3')\n",
        "dict(sorted(topic_dict_3.items(), key=lambda x: x[1]))"
      ],
      "metadata": {
        "id": "iHhWXB5xMt06",
        "colab": {
          "base_uri": "https://localhost:8080/"
        },
        "outputId": "58965f5e-05a3-44ec-8c20-9523d0355ce0"
      },
      "execution_count": null,
      "outputs": [
        {
          "output_type": "stream",
          "name": "stdout",
          "text": [
            "Dataset 3\n"
          ]
        },
        {
          "output_type": "execute_result",
          "data": {
            "text/plain": [
              "{'dreams': 52.8,\n",
              " 'stress': 58.2,\n",
              " 'castle': 59.1,\n",
              " 'opera': 63.63636363636363,\n",
              " 'bone_fracture': 68.0909090909091,\n",
              " 'law_school': 68.2,\n",
              " 'gambling': 71.6,\n",
              " 'taste': 78.66666666666667,\n",
              " 'painter': 80.9,\n",
              " 'polar_bear': 81.7,\n",
              " 'computer_graphics': 89.5,\n",
              " 'hurricane': 99.8,\n",
              " 'tuxedo': 101.4,\n",
              " 'blindness': 104.9,\n",
              " 'rock_climbing': 108.18181818181819,\n",
              " 'astronaut': 110.7,\n",
              " 'infection': 118.2,\n",
              " 'ice_cream': 119.6,\n",
              " 'skiing': 129.5,\n",
              " 'pharmacist': 136.6,\n",
              " 'pyramid': 147.2,\n",
              " 'lawn_mower': 148.1,\n",
              " 'owl': 148.6,\n",
              " 'beekeeping': 169.8181818181818}"
            ]
          },
          "metadata": {},
          "execution_count": 11
        }
      ]
    },
    {
      "cell_type": "markdown",
      "source": [
        "#Semi-Structured Tasks"
      ],
      "metadata": {
        "id": "nBuKCyzmrBCK"
      }
    },
    {
      "cell_type": "markdown",
      "source": [
        "We chose using the second experiment dataset."
      ],
      "metadata": {
        "id": "Q_yd235nrTO6"
      }
    },
    {
      "cell_type": "code",
      "source": [
        "#Train Decoder with original sentences repsentation\n",
        "Origin_decoder = learn_decoder(data2 , exp2_vecs)\n",
        "\n"
      ],
      "metadata": {
        "id": "-q4_5Yi6rIkD"
      },
      "execution_count": null,
      "outputs": []
    },
    {
      "cell_type": "code",
      "source": [
        "!pip install -U sentence-transformers"
      ],
      "metadata": {
        "id": "LFc3ipS-xerc"
      },
      "execution_count": null,
      "outputs": []
    },
    {
      "cell_type": "code",
      "source": [
        "#Train Decoder with sentences represented with contextual word embedding model\n",
        "from sentence_transformers import SentenceTransformer\n",
        "model = SentenceTransformer('sentence-transformers/bert-base-nli-mean-tokens')\n",
        "embeddings = model.encode(sentences2)\n",
        "bert_decoder = learn_decoder(data2, embeddings)"
      ],
      "metadata": {
        "id": "wBDMFpR-x0QC"
      },
      "execution_count": null,
      "outputs": []
    },
    {
      "cell_type": "markdown",
      "source": [
        " Now that we have both decoders we can start comparing the results.\n",
        "\n",
        "a) In this section we will check the average accuracy score over different dataset,\n",
        "specificallly the third experiment dataset."
      ],
      "metadata": {
        "id": "DcFzkfoI0Ysp"
      }
    },
    {
      "cell_type": "code",
      "source": [
        "origin_acc_dict = {}\n",
        "origin_acc = compute_accuracy(Origin_decoder, data3 , exp3_vecs, sentences3, origin_acc_dict)\n",
        "\n",
        "bert_acc_dict = {}\n",
        "embeddings3 = model.encode(sentences3)\n",
        "bert_acc = compute_accuracy(bert_decoder, data3 , embeddings3, sentences3, bert_acc_dict)"
      ],
      "metadata": {
        "id": "Ij_xomafyuUd"
      },
      "execution_count": null,
      "outputs": []
    },
    {
      "cell_type": "code",
      "source": [
        "print(f'Usinig the decoder trained on original sentences representaion we get average accuracy of: {origin_acc}')\n",
        "print(f'Usinig the decoder trained on sentences representd with Bert model we get average accuracy of: {bert_acc}')\n",
        "print('Therefore by measures of average acc on a whole different data set Bert is better.')"
      ],
      "metadata": {
        "id": "cyXW6cvp1bR2",
        "colab": {
          "base_uri": "https://localhost:8080/"
        },
        "outputId": "24622dd1-a884-466b-b5e2-cbebfa580303"
      },
      "execution_count": null,
      "outputs": [
        {
          "output_type": "stream",
          "name": "stdout",
          "text": [
            "Usinig the decoder trained on original sentences representaion we get average accuracy of: 94.39917695473251\n",
            "Usinig the decoder trained on sentences representd with Bert model we get average accuracy of: 81.24279835390946\n",
            "Therefore by measures of average acc on a whole different data set Bert is better.\n"
          ]
        }
      ]
    },
    {
      "cell_type": "markdown",
      "source": [
        "b) In this section we will check the average accuracy score using Cross Validation method, to check performance over the same dataset."
      ],
      "metadata": {
        "id": "32uv6WkK2ZoO"
      }
    },
    {
      "cell_type": "code",
      "source": [
        "def compute_acc_cv(M_decoder, test, vectors, sentences, test_sent):\n",
        "  sum_rank = 0\n",
        "  # every row in v_pred is a single prediction\n",
        "  v_pred = (test @ M_decoder)\n",
        "  cos_dict = {}\n",
        "  for i in range(test.shape[0]):\n",
        "    for j, sent in enumerate(sentences):\n",
        "      cos_dict[sent] = cosine_similarity(vectors[j], v_pred[i])\n",
        "    rank = len(dict((k,v) for k,v in cos_dict.items() if v > cos_dict[test_sent[i]])) + 1\n",
        "    sum_rank += rank\n",
        "  return (sum_rank/test.shape[0])\n",
        "\n",
        "\n",
        "folds = 16\n",
        "avg_score_lst_origin = []\n",
        "avg_score_lst_bert = []\n",
        "for fold in range(folds):\n",
        "  #origin\n",
        "  test = data2[fold*24:(fold+1)*24,:]\n",
        "  rows_to_remove = list(range(fold*24,(fold+1)*24))\n",
        "  train = np.delete(data2, rows_to_remove, axis=0)\n",
        "  vectors_train = np.delete(exp2_vecs, rows_to_remove, axis=0)\n",
        "  cv_decoder_origin = learn_decoder(train, vectors_train)\n",
        "  avg_score_lst_origin.append(compute_acc_cv(cv_decoder_origin, test, exp2_vecs, sentences2 , sentences2[fold*24:(fold+1)*24]))\n",
        "  #bert\n",
        "  vectors_train = np.delete(embeddings, rows_to_remove, axis=0)\n",
        "  cv_decoder_bert = learn_decoder(train, vectors_train)\n",
        "  avg_score_lst_bert.append(compute_acc_cv(cv_decoder_bert, test, embeddings, sentences2 , sentences2[fold*24:(fold+1)*24]))"
      ],
      "metadata": {
        "id": "qVU4bV2d2YJB"
      },
      "execution_count": null,
      "outputs": []
    },
    {
      "cell_type": "code",
      "source": [
        "mean_avg_origin = sum(avg_score_lst_origin)/folds\n",
        "mean_avg_bert = sum(avg_score_lst_bert)/folds\n",
        "print(f'Average accuracy using original sentences with CV method: {mean_avg_origin}')\n",
        "print(f'Average accuracy using bert representation sentences with CV method: {mean_avg_bert}')\n",
        "print('Thus we can see that Bert outperforms the original representation, both on new data and same data.')"
      ],
      "metadata": {
        "id": "5iz6-hGK8GO0",
        "colab": {
          "base_uri": "https://localhost:8080/"
        },
        "outputId": "1723895a-e0eb-4d69-846b-cc4674010904"
      },
      "execution_count": null,
      "outputs": [
        {
          "output_type": "stream",
          "name": "stdout",
          "text": [
            "Average accuracy using original sentences with CV method: 137.32552083333334\n",
            "Average accuracy using bert representation sentences with CV method: 118.5078125\n",
            "Thus we can see that Bert outperforms the original representation, both on new data and same data.\n"
          ]
        }
      ]
    },
    {
      "cell_type": "markdown",
      "source": [
        "**Building a brain-encoder**"
      ],
      "metadata": {
        "id": "rRrZMOUWPKIr"
      }
    },
    {
      "cell_type": "code",
      "source": [
        "def compute_rsquare_lst(data,P, X, R_squared):\n",
        "  for voxel in range(data.shape[1]):\n",
        "    y = data[:,voxel]\n",
        "    beta_hat = np.matmul(P, y)\n",
        "    y_hat = np.matmul(X, beta_hat)\n",
        "    Y_bar = np.mean(y)\n",
        "    k = X.shape[1] - 1\n",
        "    SSR = 0\n",
        "    SSres = 0\n",
        "    for i in range(len(y_hat)):\n",
        "      SSR += (y_hat[i] - Y_bar) ** 2\n",
        "      SSres += (y[i] - y_hat[i]) ** 2\n",
        "    SST = SSR + SSres\n",
        "    R_squared.append(SSR / SST)\n",
        "\n",
        "#Origin\n",
        "X = np.c_[np.ones(exp2_vecs.shape[0]), exp2_vecs]\n",
        "C = np.matmul(X.T, X)\n",
        "C_inverse = np.linalg.inv(C)\n",
        "P = np.matmul(C_inverse, X.T)\n",
        "origin_Rscores = []\n",
        "compute_rsquare_lst(data2,P, X, origin_Rscores)\n",
        "\n",
        "#Bert\n",
        "X = np.c_[np.ones(embeddings.shape[0]), embeddings]\n",
        "C = np.matmul(X.T, X)\n",
        "C_inverse = np.linalg.inv(C)\n",
        "P = np.matmul(C_inverse, X.T)\n",
        "bert_Rscores = []\n",
        "compute_rsquare_lst(data2,P, X, bert_Rscores)\n"
      ],
      "metadata": {
        "id": "_vqPQdUcPJSb",
        "colab": {
          "base_uri": "https://localhost:8080/"
        },
        "outputId": "7ac099f3-f8bd-4dcc-befe-fb3f33fc03fc"
      },
      "execution_count": null,
      "outputs": [
        {
          "output_type": "stream",
          "name": "stderr",
          "text": [
            "<ipython-input-19-b8e3bf33ab16>:14: RuntimeWarning: invalid value encountered in double_scalars\n",
            "  R_squared.append(SSR / SST)\n"
          ]
        }
      ]
    },
    {
      "cell_type": "code",
      "source": [
        "significant_thresholds = [0.5,0.7]\n",
        "cleanedOrigin = [x for x in origin_Rscores if str(x) != 'nan']\n",
        "cleanedBert = [x for x in bert_Rscores if str(x) != 'nan']\n",
        "print(\"General info:\")\n",
        "print(f'Average R squared score using original vectors is: {sum(cleanedOrigin)/len(cleanedOrigin)}')\n",
        "print(f'Average R squared score using Bert vectors is: {sum(cleanedBert)/len(cleanedBert)}')\n",
        "print()\n",
        "print(\"Significance:\")\n",
        "for thresh in significant_thresholds:\n",
        "  print(f'Current threshold is: {thresh}')\n",
        "  counter = 0\n",
        "  sum_signif_scores = 0\n",
        "  for score in cleanedOrigin:\n",
        "    if score >= thresh:\n",
        "      sum_signif_scores += score\n",
        "      counter +=1\n",
        "  if counter>0:\n",
        "   print(f'Number of significant voxels using original vectors and threshhold of {thresh}: {counter}, with average score: {sum_signif_scores/counter}')\n",
        "  else:\n",
        "    print(f'None of the voxels was significant under the threshhold of {thresh}')\n",
        "\n",
        "  counter = 0\n",
        "  sum_signif_scores = 0\n",
        "  for score in cleanedBert:\n",
        "    if score >= thresh:\n",
        "      sum_signif_scores += score\n",
        "      counter +=1\n",
        "  if counter>0:\n",
        "    print(f'Number of significant voxels using Bert vectors and threshhold of {thresh}: {counter}, with average score: {sum_signif_scores/counter}')\n",
        "  else:\n",
        "    print(f'None of the voxels was significant under the threshhold of {thresh}')\n",
        "  print()\n"
      ],
      "metadata": {
        "id": "8Yk-tuC6Rppy",
        "colab": {
          "base_uri": "https://localhost:8080/"
        },
        "outputId": "3f7091ba-fac9-4245-ceaf-703743032a95"
      },
      "execution_count": null,
      "outputs": [
        {
          "output_type": "stream",
          "name": "stdout",
          "text": [
            "General info:\n",
            "Average R squared score using original vectors is: 0.8028327846608895\n",
            "Average R squared score using Bert vectors is: 0.5008731892617546\n",
            "\n",
            "Significance:\n",
            "Current threshold is: 0.5\n",
            "Number of significant voxels using original vectors and threshhold of 0.5: 185734, with average score: 0.8028327846608895\n",
            "Number of significant voxels using Bert vectors and threshhold of 0.5: 128950, with average score: 0.5016061666913184\n",
            "\n",
            "Current threshold is: 0.7\n",
            "Number of significant voxels using original vectors and threshhold of 0.7: 185678, with average score: 0.8028663713256623\n",
            "None of the voxels was significant under the threshhold of 0.7\n",
            "\n"
          ]
        }
      ]
    },
    {
      "cell_type": "code",
      "source": [
        "import matplotlib.pyplot as plt\n",
        "import seaborn as sns\n",
        "\n",
        "# Plot the histograms\n",
        "sns.histplot(data=origin_Rscores)\n",
        "plt.xlabel('Value Range')\n",
        "plt.ylabel('Frequency')\n",
        "plt.title('Histogram of R_squared scores with original vecs')\n",
        "plt.show()\n",
        "print()\n",
        "\n",
        "sns.histplot(data=bert_Rscores)\n",
        "plt.xlabel('Value Range')\n",
        "plt.ylabel('Frequency')\n",
        "plt.title('Histogram of R_squared scores with Bert vecs')\n",
        "plt.show()"
      ],
      "metadata": {
        "id": "09GXc6JvaMhW",
        "colab": {
          "base_uri": "https://localhost:8080/",
          "height": 945
        },
        "outputId": "88f51b32-9c9a-4669-b605-38c8667e1f5c"
      },
      "execution_count": null,
      "outputs": [
        {
          "output_type": "display_data",
          "data": {
            "text/plain": [
              "<Figure size 640x480 with 1 Axes>"
            ],
            "image/png": "[encoded data removed]"
          },
          "metadata": {}
        },
        {
          "output_type": "stream",
          "name": "stdout",
          "text": [
            "\n"
          ]
        },
        {
          "output_type": "display_data",
          "data": {
            "text/plain": [
              "<Figure size 640x480 with 1 Axes>"
            ],
            "image/png": "[encoded data removed]"
          },
          "metadata": {}
        }
      ]
    },
    {
      "cell_type": "markdown",
      "source": [
        "#Open-ended Task"
      ],
      "metadata": {
        "id": "unXplqMEG873"
      }
    },
    {
      "cell_type": "markdown",
      "source": [
        "**Is there a connection between a sentence's length and the success of predicting its concept?\n",
        "We approached the question from two angles:\n",
        "1)Length as number of words**\n",
        "\n",
        "**2)Length as number of characters**"
      ],
      "metadata": {
        "id": "H335WXfwPv-d"
      }
    },
    {
      "cell_type": "code",
      "source": [
        "# dict of sentences and their length\n",
        "len_dict2 = {string: len(string.replace(\" \", \"\")) for string in sentences2}\n",
        "len_dict3 = {string: len(string.replace(\" \", \"\")) for string in sentences3}\n",
        "\n",
        "# dict of sentences and number of words\n",
        "num_words_dict2 = {string: len(string.split()) for string in sentences2}\n",
        "num_words_dict3 = {string: len(string.split()) for string in sentences3}\n",
        "\n"
      ],
      "metadata": {
        "id": "i4d-hc50G8I4"
      },
      "execution_count": null,
      "outputs": []
    },
    {
      "cell_type": "markdown",
      "source": [
        "**Exploring the length as number of characters using Linear Regression**"
      ],
      "metadata": {
        "id": "jXj6mLs7hZTH"
      }
    },
    {
      "cell_type": "code",
      "source": [
        "x_list2 = list(len_dict2.values())\n",
        "y_list2 = list(accuracy_dict2.values())\n",
        "\n",
        "x_list3 = list(len_dict3.values())\n",
        "y_list3 = list(accuracy_dict3.values())\n",
        "\n",
        "sns.regplot(x=x_list2,y=y_list2,label=\"Dataset 2\")\n",
        "sns.regplot(x=x_list3,y=y_list3,label=\"Dataset 3\")\n",
        "plt.xlabel(\"Number of characters\")\n",
        "plt.ylabel(\"Accuracy measured as rank\")\n",
        "plt.title(\"Accuracy as function of sentence len(characters)\")\n",
        "plt.legend()\n",
        "plt.show()"
      ],
      "metadata": {
        "id": "0qu16LreaKAl",
        "colab": {
          "base_uri": "https://localhost:8080/",
          "height": 472
        },
        "outputId": "583240d4-07d6-420e-b663-e9296a8e09a2"
      },
      "execution_count": null,
      "outputs": [
        {
          "output_type": "display_data",
          "data": {
            "text/plain": [
              "<Figure size 640x480 with 1 Axes>"
            ],
            "image/png": "[encoded data removed]"
          },
          "metadata": {}
        }
      ]
    },
    {
      "cell_type": "code",
      "source": [
        "import statsmodels.api as sm\n",
        "\n",
        "def analyze_linear_reg(x_lst, y_lst,num_dataset):\n",
        "  x_with_constant = sm.add_constant(x_lst)\n",
        "  model = sm.OLS(y_lst, x_with_constant)\n",
        "  results = model.fit()\n",
        "  # Get the coefficients and p-values\n",
        "  intercept = results.params[0]\n",
        "  slope = results.params[1]\n",
        "  p_value = results.pvalues[1]\n",
        "  #prints\n",
        "  print(f\"Results on Data set {num_dataset}:\")\n",
        "  print(f\"Intercept: {intercept:.4f}\")\n",
        "  print(f\"Slope: {slope:.4f}\")\n",
        "  print(f\"P-value: {p_value:.4f}\")\n",
        "\n",
        "\n",
        "print('Data 2 Reggression results:')\n",
        "analyze_linear_reg(x_list2,y_list2,2)\n",
        "print()\n",
        "print('Data 3 Reggression results:')\n",
        "analyze_linear_reg(x_list3,y_list3,3)"
      ],
      "metadata": {
        "id": "JvjZhqGCh0gS",
        "colab": {
          "base_uri": "https://localhost:8080/"
        },
        "outputId": "ea4c446d-793e-4b18-ffb2-4dd840814cea"
      },
      "execution_count": null,
      "outputs": [
        {
          "output_type": "stream",
          "name": "stdout",
          "text": [
            "Data 2 Reggression results:\n",
            "Results on Data set 2:\n",
            "Intercept: 183.2850\n",
            "Slope: -0.4940\n",
            "P-value: 0.5159\n",
            "\n",
            "Data 3 Reggression results:\n",
            "Results on Data set 3:\n",
            "Intercept: 120.4668\n",
            "Slope: -0.3129\n",
            "P-value: 0.3243\n"
          ]
        }
      ]
    },
    {
      "cell_type": "markdown",
      "source": [
        "**Exploring the length as number of characters using Spearman Test**"
      ],
      "metadata": {
        "id": "3XFWHOnbhEGn"
      }
    },
    {
      "cell_type": "code",
      "source": [
        "from scipy import stats\n",
        "\n",
        "print(\"Results on Dataset2:\")\n",
        "x_list2 = list(num_words_dict2.values())\n",
        "res,pval = stats.spearmanr(x_list2,y_list2)\n",
        "print(f'Coeff: {res}, Pval: {pval}')\n",
        "print()\n",
        "\n",
        "print(\"Results on Dataset3:\")\n",
        "x_list3 = list(num_words_dict3.values())\n",
        "res,pval = stats.spearmanr(x_list3,y_list3)\n",
        "print(f'Coeff: {res}, Pval: {pval}')"
      ],
      "metadata": {
        "id": "MOF0-jcjn4oH",
        "colab": {
          "base_uri": "https://localhost:8080/"
        },
        "outputId": "2a3564fe-76f4-487b-c455-5957027bd993"
      },
      "execution_count": null,
      "outputs": [
        {
          "output_type": "stream",
          "name": "stdout",
          "text": [
            "Results on Dataset2:\n",
            "Coeff: -0.22525317394777142, Pval: 8.309060211750682e-06\n",
            "\n",
            "Results on Dataset3:\n",
            "Coeff: -0.1783265289416724, Pval: 0.005305374425744312\n"
          ]
        }
      ]
    },
    {
      "cell_type": "markdown",
      "source": [
        "****Does the sentiment of a sentence have an affect on the success?****\n"
      ],
      "metadata": {
        "id": "zIlQbeg2e-Tk"
      }
    },
    {
      "cell_type": "code",
      "source": [
        "import nltk\n",
        "nltk.downloader.download('vader_lexicon')\n",
        "from nltk.sentiment import SentimentIntensityAnalyzer\n",
        "\n",
        "def calculate_sentiment(sentence):\n",
        "    sid = SentimentIntensityAnalyzer()\n",
        "    sentiment_scores = sid.polarity_scores(sentence)\n",
        "    compound_score = sentiment_scores['compound']\n",
        "    return compound_score\n",
        "\n",
        "# dict of sentences and their sentiment ranging from -1 to 1\n",
        "senti_dict2 = {string: calculate_sentiment(string) for string in sentences2}\n",
        "senti_dict3 = {string: calculate_sentiment(string) for string in sentences3}\n"
      ],
      "metadata": {
        "id": "-G36GfT8e9jE",
        "colab": {
          "base_uri": "https://localhost:8080/"
        },
        "outputId": "ad810d71-3fc6-4592-eaaf-eb5c0ed4adb5"
      },
      "execution_count": null,
      "outputs": [
        {
          "output_type": "stream",
          "name": "stderr",
          "text": [
            "[nltk_data] Downloading package vader_lexicon to /root/nltk_data...\n"
          ]
        }
      ]
    },
    {
      "cell_type": "code",
      "source": [
        "x_list2 = list(senti_dict2.values())\n",
        "x_list3 = list(senti_dict3.values())\n",
        "\n",
        "sns.regplot(x=x_list2,y=y_list2,label=\"Dataset 2\")\n",
        "sns.regplot(x=x_list3,y=y_list3,label=\"Dataset 3\")\n",
        "plt.xlabel(\"Sentiment score\")\n",
        "plt.ylabel(\"Accuracy measured as rank\")\n",
        "plt.title(\"Accuracy as function of sentence sentiment\")\n",
        "plt.legend()\n",
        "plt.show()\n",
        "\n",
        "#######\n",
        "\n",
        "print('Data 2 Reggression results:')\n",
        "analyze_linear_reg(x_list2,y_list2,2)\n",
        "print()\n",
        "print('Data 3 Reggression results:')\n",
        "analyze_linear_reg(x_list3,y_list3,3)"
      ],
      "metadata": {
        "id": "ojld__se1C-a",
        "colab": {
          "base_uri": "https://localhost:8080/",
          "height": 671
        },
        "outputId": "5dd638f1-272c-4776-a21e-05b8cb16e042"
      },
      "execution_count": null,
      "outputs": [
        {
          "output_type": "display_data",
          "data": {
            "text/plain": [
              "<Figure size 640x480 with 1 Axes>"
            ],
            "image/png": "[encoded data removed]"
          },
          "metadata": {}
        },
        {
          "output_type": "stream",
          "name": "stdout",
          "text": [
            "Data 2 Reggression results:\n",
            "Results on Data set 2:\n",
            "Intercept: 156.8823\n",
            "Slope: -28.9395\n",
            "P-value: 0.1790\n",
            "\n",
            "Data 3 Reggression results:\n",
            "Results on Data set 3:\n",
            "Intercept: 100.1908\n",
            "Slope: 13.1173\n",
            "P-value: 0.3306\n"
          ]
        }
      ]
    },
    {
      "cell_type": "code",
      "source": [
        "abs_vals2 = [abs(x) for x in x_list2]\n",
        "abs_vals3 = [abs(x) for x in x_list3]\n",
        "\n",
        "sns.regplot(x=abs_vals2,y=y_list2,label=\"Dataset 2\")\n",
        "sns.regplot(x=abs_vals3,y=y_list3,label=\"Dataset 3\")\n",
        "plt.xlabel(\"Sentiment score in absolute value\")\n",
        "plt.ylabel(\"Accuracy measured as rank\")\n",
        "plt.title(\"Accuracy as function of sentence sentiment(absolute value)\")\n",
        "plt.legend()\n",
        "plt.show()\n",
        "\n",
        "\n",
        "#####################\n",
        "\n",
        "print('Data 2 Reggression results:')\n",
        "analyze_linear_reg(x_list2,abs_vals2,2)\n",
        "print()\n",
        "print('Data 3 Reggression results:')\n",
        "analyze_linear_reg(x_list3,abs_vals3,3)"
      ],
      "metadata": {
        "id": "8VExlYMg2hmI",
        "colab": {
          "base_uri": "https://localhost:8080/",
          "height": 671
        },
        "outputId": "36624b5c-bd7c-4442-8460-02415fdc7e29"
      },
      "execution_count": null,
      "outputs": [
        {
          "output_type": "display_data",
          "data": {
            "text/plain": [
              "<Figure size 640x480 with 1 Axes>"
            ],
            "image/png": "[encoded data removed]"
          },
          "metadata": {}
        },
        {
          "output_type": "stream",
          "name": "stdout",
          "text": [
            "Data 2 Reggression results:\n",
            "Results on Data set 2:\n",
            "Intercept: 0.1469\n",
            "Slope: -0.1668\n",
            "P-value: 0.0001\n",
            "\n",
            "Data 3 Reggression results:\n",
            "Results on Data set 3:\n",
            "Intercept: 0.2397\n",
            "Slope: 0.0513\n",
            "P-value: 0.2660\n"
          ]
        }
      ]
    },
    {
      "cell_type": "markdown",
      "source": [
        "****Cluster investigation****"
      ],
      "metadata": {
        "id": "xfqb8R8S0Bc5"
      }
    },
    {
      "cell_type": "code",
      "source": [
        "# creating lists of the topics for each dataset\n",
        "\n",
        "def compute_topic_lst(data_dict,sentences):\n",
        "  sent_topic_lst = []\n",
        "  for index,sentence in enumerate(sentences):\n",
        "    current_passage_id = data_dict['labelsPassageForEachSentence'][index][0]\n",
        "    current_topic_id = data_dict['labelsPassageCategory'][current_passage_id-1][0]\n",
        "    current_topic = data_dict['keyPassageCategory'][0][current_topic_id-1][0]\n",
        "    sent_topic_lst.append(current_topic)\n",
        "  return sent_topic_lst\n",
        "\n",
        "topiclst_2 = compute_topic_lst(exp2,sentences2)\n",
        "topiclst_3 = compute_topic_lst(exp3,sentences3)"
      ],
      "metadata": {
        "id": "VAK401HD2vBh"
      },
      "execution_count": null,
      "outputs": []
    },
    {
      "cell_type": "code",
      "source": [
        "#Checking topics distribution for both Datasets\n",
        "#24 topics in each dataset\n",
        "\n",
        "def compute_len_dist(topic_lst):\n",
        "  original_len_lst = []\n",
        "  for item in set(topiclst_3):\n",
        "    count = 0\n",
        "    for item2 in topiclst_3:\n",
        "      if item2==item:\n",
        "        count+=1\n",
        "    original_len_lst.append(count)\n",
        "  print(f'Number of items in a cluster range:({min(original_len_lst)},{max(original_len_lst)})')\n",
        "  q1 = np.percentile(original_len_lst, 25)\n",
        "  q3 = np.percentile(original_len_lst, 75)\n",
        "  print(\"Q1:\", q1)\n",
        "  print(\"Q3:\", q3)\n",
        "\n",
        "print('Data set 2:')\n",
        "compute_len_dist(topiclst_2)\n",
        "print();\n",
        "print('Data set 3:')\n",
        "compute_len_dist(topiclst_3)"
      ],
      "metadata": {
        "id": "KSd7iIpT5emU",
        "colab": {
          "base_uri": "https://localhost:8080/"
        },
        "outputId": "fe6bbcab-a53b-4481-d269-0bee5adbba6e"
      },
      "execution_count": null,
      "outputs": [
        {
          "output_type": "stream",
          "name": "stdout",
          "text": [
            "Data set 2:\n",
            "Number of items in a cluster range:(9,11)\n",
            "Q1: 10.0\n",
            "Q3: 10.0\n",
            "\n",
            "Data set 3:\n",
            "Number of items in a cluster range:(9,11)\n",
            "Q1: 10.0\n",
            "Q3: 10.0\n"
          ]
        }
      ]
    },
    {
      "cell_type": "code",
      "source": [
        "from sklearn.cluster import KMeans\n",
        "\n",
        "def runKmeans(num_clusters, vectors):\n",
        "  kmeans = KMeans(n_clusters=num_clusters)\n",
        "  kmeans.fit(vectors)\n",
        "  # Get the cluster labels for each vector\n",
        "  cluster_labels = kmeans.labels_\n",
        "  clusters_dict = {}\n",
        "  for i in range(num_clusters):\n",
        "    clusters_dict[i]= []\n",
        "  # create a dict\n",
        "  for i, label in enumerate(cluster_labels):\n",
        "      clusters_dict[label].append(topiclst_2[i])\n",
        "  return clusters_dict\n"
      ],
      "metadata": {
        "id": "bejTkQ3P0fk-"
      },
      "execution_count": null,
      "outputs": []
    },
    {
      "cell_type": "code",
      "source": [
        "from collections import Counter\n",
        "\n",
        "def calculate_most_frequent_value(dictionary):\n",
        "    result = {}\n",
        "    for key, values in dictionary.items():\n",
        "        counter = Counter(values)\n",
        "        most_common_value, count = counter.most_common(1)[0]\n",
        "        result[key] = (most_common_value, count)\n",
        "    return result\n"
      ],
      "metadata": {
        "id": "tcoW9NNBYnzE"
      },
      "execution_count": null,
      "outputs": []
    },
    {
      "cell_type": "code",
      "source": [
        "def analyze_kmeans(k,vectors):\n",
        "  clusters_dict = runKmeans(k,vectors)\n",
        "  len_lst = []\n",
        "  for value in clusters_dict.values():\n",
        "    len_lst.append(len(value))\n",
        "  print(f'Number of items in a cluster range:({min(len_lst)},{max(len_lst)})')\n",
        "  q1 = np.percentile(len_lst, 25)\n",
        "  q3 = np.percentile(len_lst, 75)\n",
        "  print(\"Q1:\", q1)\n",
        "  print(\"Q3:\", q3)\n",
        "  # Calculate most frequent value and its count for each key\n",
        "  result_dict = calculate_most_frequent_value(clusters_dict)\n",
        "  percent_lst = []\n",
        "  for key, (most_common_value, count) in result_dict.items():\n",
        "      # print(f\"For key '{key}', the most frequent value is {most_common_value} (appeared {count}/{len(clusters_dict[key])} times).\")\n",
        "      percent_lst.append(count/len(clusters_dict[key]))\n",
        "  print(f'Average coverage of most common value {sum(percent_lst)/len(percent_lst)}')\n",
        "  return clusters_dict"
      ],
      "metadata": {
        "id": "xXie2nAQ4FCD"
      },
      "execution_count": null,
      "outputs": []
    },
    {
      "cell_type": "code",
      "source": [
        "print('Data set 2:')\n",
        "original_cluster_dict2 = analyze_kmeans(24,exp2_vecs)\n",
        "print()\n",
        "print('Data set 3:')\n",
        "original_cluster_dict3 = analyze_kmeans(24,exp3_vecs)"
      ],
      "metadata": {
        "id": "o81fxVliYNmr",
        "colab": {
          "base_uri": "https://localhost:8080/"
        },
        "outputId": "0fd1ca2b-6b23-458d-d8d1-542cb791215c"
      },
      "execution_count": null,
      "outputs": [
        {
          "output_type": "stream",
          "name": "stdout",
          "text": [
            "Data set 2:\n"
          ]
        },
        {
          "output_type": "stream",
          "name": "stderr",
          "text": [
            "/usr/local/lib/python3.10/dist-packages/sklearn/cluster/_kmeans.py:870: FutureWarning: The default value of `n_init` will change from 10 to 'auto' in 1.4. Set the value of `n_init` explicitly to suppress the warning\n",
            "  warnings.warn(\n"
          ]
        },
        {
          "output_type": "stream",
          "name": "stdout",
          "text": [
            "Number of items in a cluster range:(4,37)\n",
            "Q1: 12.0\n",
            "Q3: 17.5\n",
            "Average coverage of most common value 0.6299164771235505\n",
            "\n",
            "Data set 3:\n"
          ]
        },
        {
          "output_type": "stream",
          "name": "stderr",
          "text": [
            "/usr/local/lib/python3.10/dist-packages/sklearn/cluster/_kmeans.py:870: FutureWarning: The default value of `n_init` will change from 10 to 'auto' in 1.4. Set the value of `n_init` explicitly to suppress the warning\n",
            "  warnings.warn(\n"
          ]
        },
        {
          "output_type": "stream",
          "name": "stdout",
          "text": [
            "Number of items in a cluster range:(1,20)\n",
            "Q1: 8.0\n",
            "Q3: 13.25\n",
            "Average coverage of most common value 0.41207869250632406\n"
          ]
        }
      ]
    },
    {
      "cell_type": "code",
      "source": [
        "original_cluster_dict2"
      ],
      "metadata": {
        "id": "cQA8Np1b8Ak2",
        "colab": {
          "base_uri": "https://localhost:8080/"
        },
        "outputId": "20641142-0b39-4878-a507-df7d2c7824b5"
      },
      "execution_count": null,
      "outputs": [
        {
          "output_type": "execute_result",
          "data": {
            "text/plain": [
              "{0: ['weapon',\n",
              "  'weapon',\n",
              "  'weapon',\n",
              "  'weapon',\n",
              "  'kitchen_utensil',\n",
              "  'kitchen_utensil',\n",
              "  'weapon',\n",
              "  'weapon',\n",
              "  'weapon',\n",
              "  'weapon',\n",
              "  'profession',\n",
              "  'profession',\n",
              "  'weapon',\n",
              "  'weapon',\n",
              "  'weapon'],\n",
              " 1: ['building_part',\n",
              "  'building_part',\n",
              "  'building_part',\n",
              "  'body_part',\n",
              "  'building_part',\n",
              "  'dwelling',\n",
              "  'appliance',\n",
              "  'building_part',\n",
              "  'building_part',\n",
              "  'building_part',\n",
              "  'building_part',\n",
              "  'building_part'],\n",
              " 2: ['vehicles_transport',\n",
              "  'vehicles_transport',\n",
              "  'vehicles_transport',\n",
              "  'vehicles_transport',\n",
              "  'vehicles_transport',\n",
              "  'vehicles_transport',\n",
              "  'tool',\n",
              "  'vehicles_transport',\n",
              "  'vehicles_transport',\n",
              "  'vehicles_transport',\n",
              "  'vehicles_transport',\n",
              "  'vehicles_transport',\n",
              "  'vehicles_transport',\n",
              "  'place',\n",
              "  'place',\n",
              "  'place'],\n",
              " 3: ['fish',\n",
              "  'fish',\n",
              "  'fish',\n",
              "  'fish',\n",
              "  'fish',\n",
              "  'fish',\n",
              "  'fish',\n",
              "  'vehicles_transport',\n",
              "  'animal',\n",
              "  'animal',\n",
              "  'animal'],\n",
              " 4: ['dwelling',\n",
              "  'vehicles_transport',\n",
              "  'furniture',\n",
              "  'furniture',\n",
              "  'building_part',\n",
              "  'kitchen_utensil',\n",
              "  'appliance',\n",
              "  'appliance',\n",
              "  'appliance',\n",
              "  'appliance',\n",
              "  'furniture',\n",
              "  'appliance'],\n",
              " 5: ['weapon',\n",
              "  'weapon',\n",
              "  'weapon',\n",
              "  'vehicles_transport',\n",
              "  'profession',\n",
              "  'profession',\n",
              "  'profession',\n",
              "  'profession',\n",
              "  'appliance',\n",
              "  'profession',\n",
              "  'profession',\n",
              "  'furniture',\n",
              "  'kitchen_utensil',\n",
              "  'kitchen_utensil',\n",
              "  'kitchen_utensil',\n",
              "  'kitchen_utensil',\n",
              "  'clothing',\n",
              "  'tool',\n",
              "  'tool',\n",
              "  'tool',\n",
              "  'kitchen_utensil',\n",
              "  'kitchen_utensil',\n",
              "  'kitchen_utensil',\n",
              "  'kitchen_utensil',\n",
              "  'kitchen_utensil',\n",
              "  'kitchen_utensil',\n",
              "  'music',\n",
              "  'tool',\n",
              "  'tool',\n",
              "  'tool',\n",
              "  'tool',\n",
              "  'tool',\n",
              "  'tool',\n",
              "  'tool',\n",
              "  'tool',\n",
              "  'tool',\n",
              "  'appliance'],\n",
              " 6: ['insect',\n",
              "  'insect',\n",
              "  'insect',\n",
              "  'insect',\n",
              "  'insect',\n",
              "  'insect',\n",
              "  'insect',\n",
              "  'animal',\n",
              "  'animal',\n",
              "  'animal',\n",
              "  'bird',\n",
              "  'insect',\n",
              "  'insect',\n",
              "  'insect',\n",
              "  'insect',\n",
              "  'fish',\n",
              "  'bird',\n",
              "  'insect',\n",
              "  'insect',\n",
              "  'insect',\n",
              "  'insect',\n",
              "  'landscape',\n",
              "  'bird'],\n",
              " 7: ['dwelling',\n",
              "  'furniture',\n",
              "  'furniture',\n",
              "  'furniture',\n",
              "  'furniture',\n",
              "  'furniture',\n",
              "  'furniture',\n",
              "  'furniture',\n",
              "  'furniture',\n",
              "  'clothing',\n",
              "  'building_part',\n",
              "  'dwelling',\n",
              "  'furniture',\n",
              "  'furniture',\n",
              "  'furniture',\n",
              "  'place'],\n",
              " 8: ['appliance', 'appliance', 'appliance', 'appliance'],\n",
              " 9: ['fruit',\n",
              "  'vegetable',\n",
              "  'vegetable',\n",
              "  'drink_non_alcoholic',\n",
              "  'drink_non_alcoholic',\n",
              "  'drink_non_alcoholic',\n",
              "  'vegetable',\n",
              "  'vegetable',\n",
              "  'vegetable',\n",
              "  'drink_non_alcoholic',\n",
              "  'drink_non_alcoholic',\n",
              "  'drink_non_alcoholic',\n",
              "  'fruit',\n",
              "  'fruit',\n",
              "  'fruit',\n",
              "  'fruit',\n",
              "  'vegetable'],\n",
              " 10: ['animal',\n",
              "  'bird',\n",
              "  'bird',\n",
              "  'bird',\n",
              "  'animal',\n",
              "  'animal',\n",
              "  'animal',\n",
              "  'bird',\n",
              "  'fish',\n",
              "  'bird',\n",
              "  'bird',\n",
              "  'bird',\n",
              "  'fish',\n",
              "  'bird',\n",
              "  'bird',\n",
              "  'animal'],\n",
              " 11: ['human',\n",
              "  'human',\n",
              "  'human',\n",
              "  'human',\n",
              "  'human',\n",
              "  'human',\n",
              "  'human',\n",
              "  'human',\n",
              "  'human',\n",
              "  'human',\n",
              "  'human',\n",
              "  'human'],\n",
              " 12: ['fruit',\n",
              "  'disaster',\n",
              "  'disaster',\n",
              "  'disaster',\n",
              "  'disaster',\n",
              "  'disaster',\n",
              "  'body_part',\n",
              "  'disaster',\n",
              "  'disaster',\n",
              "  'disaster',\n",
              "  'disaster',\n",
              "  'landscape',\n",
              "  'landscape',\n",
              "  'bird',\n",
              "  'landscape',\n",
              "  'disaster',\n",
              "  'disaster',\n",
              "  'disaster',\n",
              "  'disaster'],\n",
              " 13: ['dwelling',\n",
              "  'crime',\n",
              "  'insect',\n",
              "  'human',\n",
              "  'crime',\n",
              "  'crime',\n",
              "  'body_part',\n",
              "  'body_part',\n",
              "  'human',\n",
              "  'animal',\n",
              "  'place',\n",
              "  'place',\n",
              "  'place',\n",
              "  'place',\n",
              "  'dwelling',\n",
              "  'place',\n",
              "  'place',\n",
              "  'place',\n",
              "  'bird',\n",
              "  'bird',\n",
              "  'fish',\n",
              "  'fish',\n",
              "  'profession',\n",
              "  'weapon',\n",
              "  'appliance',\n",
              "  'appliance',\n",
              "  'appliance',\n",
              "  'crime',\n",
              "  'bird'],\n",
              " 14: ['clothing',\n",
              "  'clothing',\n",
              "  'clothing',\n",
              "  'human',\n",
              "  'clothing',\n",
              "  'clothing',\n",
              "  'human',\n",
              "  'clothing',\n",
              "  'clothing',\n",
              "  'clothing',\n",
              "  'clothing',\n",
              "  'profession',\n",
              "  'clothing',\n",
              "  'clothing',\n",
              "  'clothing',\n",
              "  'clothing'],\n",
              " 15: ['crime',\n",
              "  'crime',\n",
              "  'crime',\n",
              "  'crime',\n",
              "  'crime',\n",
              "  'crime',\n",
              "  'crime',\n",
              "  'crime',\n",
              "  'crime',\n",
              "  'crime',\n",
              "  'crime',\n",
              "  'crime'],\n",
              " 16: ['dwelling',\n",
              "  'weapon',\n",
              "  'profession',\n",
              "  'furniture',\n",
              "  'disaster',\n",
              "  'disaster',\n",
              "  'building_part',\n",
              "  'building_part',\n",
              "  'dwelling',\n",
              "  'dwelling',\n",
              "  'dwelling',\n",
              "  'dwelling',\n",
              "  'dwelling',\n",
              "  'dwelling',\n",
              "  'dwelling',\n",
              "  'dwelling',\n",
              "  'dwelling',\n",
              "  'vehicles_transport',\n",
              "  'building_part',\n",
              "  'building_part',\n",
              "  'building_part'],\n",
              " 17: ['music',\n",
              "  'music',\n",
              "  'music',\n",
              "  'music',\n",
              "  'profession',\n",
              "  'music',\n",
              "  'music',\n",
              "  'music',\n",
              "  'music',\n",
              "  'music',\n",
              "  'music',\n",
              "  'music',\n",
              "  'music'],\n",
              " 18: ['fruit',\n",
              "  'fruit',\n",
              "  'fruit',\n",
              "  'fruit',\n",
              "  'vegetable',\n",
              "  'vegetable',\n",
              "  'drink_non_alcoholic',\n",
              "  'drink_non_alcoholic',\n",
              "  'drink_non_alcoholic',\n",
              "  'drink_non_alcoholic',\n",
              "  'fruit',\n",
              "  'fruit',\n",
              "  'fish',\n",
              "  'vegetable',\n",
              "  'vegetable'],\n",
              " 19: ['music',\n",
              "  'music',\n",
              "  'animal',\n",
              "  'animal',\n",
              "  'body_part',\n",
              "  'body_part',\n",
              "  'body_part',\n",
              "  'body_part',\n",
              "  'body_part',\n",
              "  'body_part',\n",
              "  'body_part',\n",
              "  'body_part',\n",
              "  'kitchen_utensil',\n",
              "  'clothing',\n",
              "  'tool',\n",
              "  'animal',\n",
              "  'body_part',\n",
              "  'body_part',\n",
              "  'body_part',\n",
              "  'body_part',\n",
              "  'fruit',\n",
              "  'tool',\n",
              "  'tool',\n",
              "  'music'],\n",
              " 20: ['fruit',\n",
              "  'fruit',\n",
              "  'vegetable',\n",
              "  'fish',\n",
              "  'fish',\n",
              "  'kitchen_utensil',\n",
              "  'kitchen_utensil',\n",
              "  'vegetable',\n",
              "  'vegetable',\n",
              "  'vegetable',\n",
              "  'fruit',\n",
              "  'fish',\n",
              "  'appliance',\n",
              "  'vegetable'],\n",
              " 21: ['place', 'profession', 'profession', 'profession', 'profession'],\n",
              " 22: ['drink_non_alcoholic',\n",
              "  'landscape',\n",
              "  'disaster',\n",
              "  'animal',\n",
              "  'place',\n",
              "  'place',\n",
              "  'place',\n",
              "  'place',\n",
              "  'landscape',\n",
              "  'vegetable',\n",
              "  'drink_non_alcoholic',\n",
              "  'landscape',\n",
              "  'drink_non_alcoholic'],\n",
              " 23: ['landscape',\n",
              "  'landscape',\n",
              "  'landscape',\n",
              "  'landscape',\n",
              "  'landscape',\n",
              "  'landscape',\n",
              "  'landscape',\n",
              "  'landscape',\n",
              "  'landscape',\n",
              "  'drink_non_alcoholic',\n",
              "  'drink_non_alcoholic',\n",
              "  'drink_non_alcoholic']}"
            ]
          },
          "metadata": {},
          "execution_count": 41
        }
      ]
    },
    {
      "cell_type": "code",
      "source": [
        "original_cluster_dict3"
      ],
      "metadata": {
        "id": "3355WbjxYXtC",
        "colab": {
          "base_uri": "https://localhost:8080/"
        },
        "outputId": "b7cc6517-bfbe-4700-8125-ec8655f5c0ba"
      },
      "execution_count": null,
      "outputs": [
        {
          "output_type": "execute_result",
          "data": {
            "text/plain": [
              "{0: ['place'],\n",
              " 1: ['insect',\n",
              "  'profession',\n",
              "  'profession',\n",
              "  'profession',\n",
              "  'animal',\n",
              "  'animal',\n",
              "  'animal',\n",
              "  'animal',\n",
              "  'furniture',\n",
              "  'furniture',\n",
              "  'dwelling',\n",
              "  'insect'],\n",
              " 2: ['profession',\n",
              "  'profession',\n",
              "  'appliance',\n",
              "  'appliance',\n",
              "  'appliance',\n",
              "  'human',\n",
              "  'human',\n",
              "  'human',\n",
              "  'building_part'],\n",
              " 3: ['drink_non_alcoholic',\n",
              "  'drink_non_alcoholic',\n",
              "  'landscape',\n",
              "  'landscape',\n",
              "  'furniture',\n",
              "  'furniture',\n",
              "  'furniture',\n",
              "  'clothing'],\n",
              " 4: ['weapon',\n",
              "  'appliance',\n",
              "  'drink_non_alcoholic',\n",
              "  'crime',\n",
              "  'bird',\n",
              "  'landscape',\n",
              "  'landscape',\n",
              "  'landscape',\n",
              "  'weapon',\n",
              "  'body_part',\n",
              "  'crime',\n",
              "  'crime',\n",
              "  'bird'],\n",
              " 5: ['fruit',\n",
              "  'insect',\n",
              "  'insect',\n",
              "  'dwelling',\n",
              "  'kitchen_utensil',\n",
              "  'kitchen_utensil',\n",
              "  'kitchen_utensil',\n",
              "  'dwelling',\n",
              "  'human',\n",
              "  'human',\n",
              "  'human',\n",
              "  'drink_non_alcoholic',\n",
              "  'drink_non_alcoholic',\n",
              "  'drink_non_alcoholic',\n",
              "  'crime'],\n",
              " 6: ['weapon',\n",
              "  'weapon',\n",
              "  'fruit',\n",
              "  'landscape',\n",
              "  'building_part',\n",
              "  'clothing',\n",
              "  'crime',\n",
              "  'crime',\n",
              "  'crime',\n",
              "  'disaster',\n",
              "  'disaster',\n",
              "  'disaster',\n",
              "  'bird',\n",
              "  'bird',\n",
              "  'disaster',\n",
              "  'vegetable'],\n",
              " 7: ['music',\n",
              "  'body_part',\n",
              "  'body_part',\n",
              "  'clothing',\n",
              "  'clothing',\n",
              "  'clothing',\n",
              "  'tool',\n",
              "  'tool',\n",
              "  'tool',\n",
              "  'tool',\n",
              "  'weapon',\n",
              "  'weapon',\n",
              "  'place',\n",
              "  'kitchen_utensil',\n",
              "  'place',\n",
              "  'dwelling',\n",
              "  'drink_non_alcoholic',\n",
              "  'insect',\n",
              "  'insect'],\n",
              " 8: ['body_part',\n",
              "  'body_part',\n",
              "  'landscape',\n",
              "  'kitchen_utensil',\n",
              "  'kitchen_utensil',\n",
              "  'kitchen_utensil',\n",
              "  'kitchen_utensil',\n",
              "  'bird'],\n",
              " 9: ['vehicles_transport',\n",
              "  'music',\n",
              "  'music',\n",
              "  'music',\n",
              "  'fish',\n",
              "  'fish',\n",
              "  'fish',\n",
              "  'fish',\n",
              "  'drink_non_alcoholic',\n",
              "  'building_part',\n",
              "  'place',\n",
              "  'place',\n",
              "  'place',\n",
              "  'place',\n",
              "  'animal',\n",
              "  'place',\n",
              "  'dwelling',\n",
              "  'dwelling'],\n",
              " 10: ['music', 'music', 'music', 'dwelling', 'fruit'],\n",
              " 11: ['fruit',\n",
              "  'fruit',\n",
              "  'fruit',\n",
              "  'furniture',\n",
              "  'furniture',\n",
              "  'furniture',\n",
              "  'landscape',\n",
              "  'human'],\n",
              " 12: ['dwelling',\n",
              "  'dwelling',\n",
              "  'dwelling',\n",
              "  'dwelling',\n",
              "  'vegetable',\n",
              "  'vegetable',\n",
              "  'vegetable',\n",
              "  'vegetable',\n",
              "  'vegetable',\n",
              "  'place',\n",
              "  'place'],\n",
              " 13: ['human',\n",
              "  'vegetable',\n",
              "  'vegetable',\n",
              "  'vegetable',\n",
              "  'insect',\n",
              "  'insect',\n",
              "  'insect',\n",
              "  'profession',\n",
              "  'kitchen_utensil'],\n",
              " 14: ['furniture', 'clothing', 'disaster', 'insect', 'landscape', 'landscape'],\n",
              " 15: ['body_part'],\n",
              " 16: ['music',\n",
              "  'dwelling',\n",
              "  'dwelling',\n",
              "  'dwelling',\n",
              "  'fruit',\n",
              "  'profession',\n",
              "  'disaster',\n",
              "  'weapon',\n",
              "  'vegetable'],\n",
              " 17: ['fruit',\n",
              "  'crime',\n",
              "  'crime',\n",
              "  'crime',\n",
              "  'vehicles_transport',\n",
              "  'vehicles_transport',\n",
              "  'vehicles_transport',\n",
              "  'vehicles_transport',\n",
              "  'weapon'],\n",
              " 18: ['animal',\n",
              "  'landscape',\n",
              "  'landscape',\n",
              "  'body_part',\n",
              "  'body_part',\n",
              "  'kitchen_utensil',\n",
              "  'kitchen_utensil',\n",
              "  'kitchen_utensil',\n",
              "  'crime',\n",
              "  'drink_non_alcoholic',\n",
              "  'drink_non_alcoholic',\n",
              "  'drink_non_alcoholic',\n",
              "  'drink_non_alcoholic',\n",
              "  'bird'],\n",
              " 19: ['crime',\n",
              "  'vegetable',\n",
              "  'furniture',\n",
              "  'disaster',\n",
              "  'animal',\n",
              "  'animal',\n",
              "  'animal',\n",
              "  'place',\n",
              "  'place',\n",
              "  'vegetable'],\n",
              " 20: ['furniture',\n",
              "  'insect',\n",
              "  'insect',\n",
              "  'vehicles_transport',\n",
              "  'vehicles_transport',\n",
              "  'vehicles_transport',\n",
              "  'profession',\n",
              "  'dwelling'],\n",
              " 21: ['bird', 'animal', 'animal', 'animal', 'body_part'],\n",
              " 22: ['body_part',\n",
              "  'disaster',\n",
              "  'disaster',\n",
              "  'disaster',\n",
              "  'disaster',\n",
              "  'building_part',\n",
              "  'building_part',\n",
              "  'building_part',\n",
              "  'dwelling'],\n",
              " 23: ['furniture',\n",
              "  'building_part',\n",
              "  'building_part',\n",
              "  'clothing',\n",
              "  'disaster',\n",
              "  'body_part',\n",
              "  'body_part',\n",
              "  'body_part',\n",
              "  'body_part',\n",
              "  'body_part',\n",
              "  'body_part',\n",
              "  'kitchen_utensil',\n",
              "  'kitchen_utensil',\n",
              "  'kitchen_utensil',\n",
              "  'kitchen_utensil',\n",
              "  'human',\n",
              "  'human',\n",
              "  'human',\n",
              "  'human',\n",
              "  'clothing']}"
            ]
          },
          "metadata": {},
          "execution_count": 42
        }
      ]
    },
    {
      "cell_type": "markdown",
      "source": [
        "## We can do the same analysis using other representations."
      ],
      "metadata": {
        "id": "eHvnZusGGtRF"
      }
    },
    {
      "cell_type": "markdown",
      "source": [
        "Now looking at bert embeddings"
      ],
      "metadata": {
        "id": "fI7kHd6XD2X9"
      }
    },
    {
      "cell_type": "markdown",
      "source": [
        "**Dataset 2**"
      ],
      "metadata": {
        "id": "Sr--n-UWTeYO"
      }
    },
    {
      "cell_type": "code",
      "source": [
        "print('Data set 2:')\n",
        "BERT_cluster_dict2 = analyze_kmeans(24,embeddings)\n",
        "print()\n",
        "print('Data set 3:')\n",
        "BERT_cluster_dict3 = analyze_kmeans(24,embeddings3)"
      ],
      "metadata": {
        "id": "S4yxAlJSZmZ4",
        "colab": {
          "base_uri": "https://localhost:8080/"
        },
        "outputId": "581d16b3-3b7b-4117-8f7f-d63261523394"
      },
      "execution_count": null,
      "outputs": [
        {
          "output_type": "stream",
          "name": "stdout",
          "text": [
            "Data set 2:\n"
          ]
        },
        {
          "output_type": "stream",
          "name": "stderr",
          "text": [
            "/usr/local/lib/python3.10/dist-packages/sklearn/cluster/_kmeans.py:870: FutureWarning: The default value of `n_init` will change from 10 to 'auto' in 1.4. Set the value of `n_init` explicitly to suppress the warning\n",
            "  warnings.warn(\n"
          ]
        },
        {
          "output_type": "stream",
          "name": "stdout",
          "text": [
            "Number of items in a cluster range:(6,33)\n",
            "Q1: 12.0\n",
            "Q3: 19.0\n",
            "Average coverage of most common value 0.5096581557656118\n",
            "\n",
            "Data set 3:\n"
          ]
        },
        {
          "output_type": "stream",
          "name": "stderr",
          "text": [
            "/usr/local/lib/python3.10/dist-packages/sklearn/cluster/_kmeans.py:870: FutureWarning: The default value of `n_init` will change from 10 to 'auto' in 1.4. Set the value of `n_init` explicitly to suppress the warning\n",
            "  warnings.warn(\n"
          ]
        },
        {
          "output_type": "stream",
          "name": "stdout",
          "text": [
            "Number of items in a cluster range:(4,16)\n",
            "Q1: 8.75\n",
            "Q3: 12.0\n",
            "Average coverage of most common value 0.35730507918007914\n"
          ]
        }
      ]
    },
    {
      "cell_type": "code",
      "source": [
        "BERT_cluster_dict2"
      ],
      "metadata": {
        "id": "Ki62CIVlZw2f",
        "colab": {
          "base_uri": "https://localhost:8080/"
        },
        "outputId": "6f22fbf8-a39d-4838-ea9f-eae8cfb4f129"
      },
      "execution_count": null,
      "outputs": [
        {
          "output_type": "execute_result",
          "data": {
            "text/plain": [
              "{0: ['insect',\n",
              "  'insect',\n",
              "  'insect',\n",
              "  'animal',\n",
              "  'animal',\n",
              "  'animal',\n",
              "  'animal',\n",
              "  'animal',\n",
              "  'animal',\n",
              "  'body_part',\n",
              "  'body_part',\n",
              "  'insect',\n",
              "  'insect',\n",
              "  'fish',\n",
              "  'fish',\n",
              "  'insect',\n",
              "  'insect',\n",
              "  'insect',\n",
              "  'insect'],\n",
              " 1: ['furniture',\n",
              "  'furniture',\n",
              "  'furniture',\n",
              "  'furniture',\n",
              "  'animal',\n",
              "  'body_part',\n",
              "  'kitchen_utensil',\n",
              "  'kitchen_utensil',\n",
              "  'drink_non_alcoholic'],\n",
              " 2: ['landscape',\n",
              "  'place',\n",
              "  'place',\n",
              "  'place',\n",
              "  'place',\n",
              "  'landscape',\n",
              "  'landscape',\n",
              "  'vegetable',\n",
              "  'fruit',\n",
              "  'profession',\n",
              "  'landscape',\n",
              "  'landscape'],\n",
              " 3: ['crime',\n",
              "  'crime',\n",
              "  'crime',\n",
              "  'crime',\n",
              "  'crime',\n",
              "  'crime',\n",
              "  'crime',\n",
              "  'landscape',\n",
              "  'weapon',\n",
              "  'weapon',\n",
              "  'crime',\n",
              "  'crime',\n",
              "  'crime',\n",
              "  'crime',\n",
              "  'crime',\n",
              "  'crime',\n",
              "  'crime',\n",
              "  'crime'],\n",
              " 4: ['appliance',\n",
              "  'appliance',\n",
              "  'furniture',\n",
              "  'body_part',\n",
              "  'kitchen_utensil',\n",
              "  'kitchen_utensil',\n",
              "  'dwelling',\n",
              "  'kitchen_utensil',\n",
              "  'kitchen_utensil',\n",
              "  'appliance',\n",
              "  'appliance',\n",
              "  'tool',\n",
              "  'tool',\n",
              "  'tool',\n",
              "  'tool',\n",
              "  'weapon',\n",
              "  'furniture',\n",
              "  'drink_non_alcoholic'],\n",
              " 5: ['dwelling',\n",
              "  'landscape',\n",
              "  'building_part',\n",
              "  'building_part',\n",
              "  'body_part',\n",
              "  'dwelling',\n",
              "  'dwelling',\n",
              "  'dwelling',\n",
              "  'building_part',\n",
              "  'building_part',\n",
              "  'building_part',\n",
              "  'building_part',\n",
              "  'building_part'],\n",
              " 6: ['appliance',\n",
              "  'vegetable',\n",
              "  'fish',\n",
              "  'fish',\n",
              "  'kitchen_utensil',\n",
              "  'kitchen_utensil',\n",
              "  'kitchen_utensil',\n",
              "  'kitchen_utensil',\n",
              "  'kitchen_utensil',\n",
              "  'kitchen_utensil',\n",
              "  'vegetable',\n",
              "  'vegetable',\n",
              "  'vegetable',\n",
              "  'drink_non_alcoholic',\n",
              "  'body_part',\n",
              "  'body_part',\n",
              "  'appliance',\n",
              "  'appliance',\n",
              "  'fish',\n",
              "  'furniture',\n",
              "  'appliance',\n",
              "  'appliance',\n",
              "  'appliance',\n",
              "  'appliance',\n",
              "  'vegetable'],\n",
              " 7: ['dwelling',\n",
              "  'vehicles_transport',\n",
              "  'furniture',\n",
              "  'furniture',\n",
              "  'furniture',\n",
              "  'furniture',\n",
              "  'furniture',\n",
              "  'furniture',\n",
              "  'building_part',\n",
              "  'building_part',\n",
              "  'dwelling',\n",
              "  'place',\n",
              "  'place',\n",
              "  'place',\n",
              "  'profession',\n",
              "  'profession',\n",
              "  'profession',\n",
              "  'furniture',\n",
              "  'furniture',\n",
              "  'appliance',\n",
              "  'appliance',\n",
              "  'appliance',\n",
              "  'appliance',\n",
              "  'place',\n",
              "  'building_part'],\n",
              " 8: ['fruit',\n",
              "  'fruit',\n",
              "  'fruit',\n",
              "  'fruit',\n",
              "  'fruit',\n",
              "  'fruit',\n",
              "  'fruit',\n",
              "  'insect',\n",
              "  'appliance',\n",
              "  'vegetable',\n",
              "  'vegetable',\n",
              "  'vegetable',\n",
              "  'drink_non_alcoholic',\n",
              "  'vegetable',\n",
              "  'vegetable',\n",
              "  'vegetable',\n",
              "  'vegetable',\n",
              "  'drink_non_alcoholic',\n",
              "  'drink_non_alcoholic',\n",
              "  'drink_non_alcoholic',\n",
              "  'drink_non_alcoholic',\n",
              "  'drink_non_alcoholic',\n",
              "  'fruit',\n",
              "  'fruit',\n",
              "  'fruit',\n",
              "  'fruit',\n",
              "  'fruit',\n",
              "  'fruit',\n",
              "  'fruit',\n",
              "  'fish',\n",
              "  'vegetable',\n",
              "  'vegetable',\n",
              "  'vegetable'],\n",
              " 9: ['music',\n",
              "  'music',\n",
              "  'music',\n",
              "  'music',\n",
              "  'music',\n",
              "  'music',\n",
              "  'music',\n",
              "  'music',\n",
              "  'music',\n",
              "  'music',\n",
              "  'music',\n",
              "  'music',\n",
              "  'music',\n",
              "  'music'],\n",
              " 10: ['insect',\n",
              "  'insect',\n",
              "  'insect',\n",
              "  'insect',\n",
              "  'bird',\n",
              "  'bird',\n",
              "  'landscape',\n",
              "  'animal',\n",
              "  'bird',\n",
              "  'bird',\n",
              "  'bird',\n",
              "  'bird',\n",
              "  'bird',\n",
              "  'bird'],\n",
              " 11: ['human',\n",
              "  'body_part',\n",
              "  'weapon',\n",
              "  'weapon',\n",
              "  'kitchen_utensil',\n",
              "  'kitchen_utensil',\n",
              "  'weapon',\n",
              "  'weapon',\n",
              "  'weapon',\n",
              "  'weapon',\n",
              "  'profession',\n",
              "  'profession',\n",
              "  'weapon'],\n",
              " 12: ['vehicles_transport',\n",
              "  'vehicles_transport',\n",
              "  'vehicles_transport',\n",
              "  'clothing',\n",
              "  'animal',\n",
              "  'landscape',\n",
              "  'landscape',\n",
              "  'landscape'],\n",
              " 13: ['fruit',\n",
              "  'drink_non_alcoholic',\n",
              "  'landscape',\n",
              "  'bird',\n",
              "  'animal',\n",
              "  'body_part',\n",
              "  'dwelling',\n",
              "  'profession',\n",
              "  'weapon',\n",
              "  'music',\n",
              "  'drink_non_alcoholic'],\n",
              " 14: ['dwelling',\n",
              "  'dwelling',\n",
              "  'vehicles_transport',\n",
              "  'furniture',\n",
              "  'drink_non_alcoholic',\n",
              "  'drink_non_alcoholic',\n",
              "  'building_part',\n",
              "  'clothing',\n",
              "  'body_part',\n",
              "  'building_part',\n",
              "  'dwelling',\n",
              "  'dwelling',\n",
              "  'body_part',\n",
              "  'bird',\n",
              "  'building_part',\n",
              "  'building_part'],\n",
              " 15: ['human',\n",
              "  'clothing',\n",
              "  'human',\n",
              "  'human',\n",
              "  'human',\n",
              "  'human',\n",
              "  'drink_non_alcoholic',\n",
              "  'clothing',\n",
              "  'human',\n",
              "  'human',\n",
              "  'human',\n",
              "  'human'],\n",
              " 16: ['building_part',\n",
              "  'building_part',\n",
              "  'crime',\n",
              "  'place',\n",
              "  'place',\n",
              "  'place',\n",
              "  'place',\n",
              "  'dwelling',\n",
              "  'dwelling',\n",
              "  'place',\n",
              "  'drink_non_alcoholic',\n",
              "  'fish'],\n",
              " 17: ['vehicles_transport',\n",
              "  'vehicles_transport',\n",
              "  'animal',\n",
              "  'vehicles_transport',\n",
              "  'vehicles_transport',\n",
              "  'vehicles_transport',\n",
              "  'vehicles_transport',\n",
              "  'vehicles_transport',\n",
              "  'place',\n",
              "  'place',\n",
              "  'place'],\n",
              " 18: ['fish',\n",
              "  'fish',\n",
              "  'fish',\n",
              "  'fish',\n",
              "  'fish',\n",
              "  'vehicles_transport',\n",
              "  'vehicles_transport',\n",
              "  'vehicles_transport',\n",
              "  'disaster',\n",
              "  'animal',\n",
              "  'animal',\n",
              "  'animal'],\n",
              " 19: ['human', 'human', 'human', 'human', 'human', 'human'],\n",
              " 20: ['weapon',\n",
              "  'weapon',\n",
              "  'weapon',\n",
              "  'weapon',\n",
              "  'profession',\n",
              "  'profession',\n",
              "  'profession',\n",
              "  'profession',\n",
              "  'profession',\n",
              "  'profession',\n",
              "  'profession',\n",
              "  'profession',\n",
              "  'kitchen_utensil',\n",
              "  'tool',\n",
              "  'tool',\n",
              "  'tool',\n",
              "  'tool',\n",
              "  'dwelling',\n",
              "  'kitchen_utensil',\n",
              "  'dwelling',\n",
              "  'tool',\n",
              "  'tool',\n",
              "  'tool',\n",
              "  'tool',\n",
              "  'tool',\n",
              "  'tool',\n",
              "  'tool'],\n",
              " 21: ['vehicles_transport',\n",
              "  'clothing',\n",
              "  'body_part',\n",
              "  'body_part',\n",
              "  'body_part',\n",
              "  'body_part',\n",
              "  'clothing',\n",
              "  'clothing',\n",
              "  'clothing',\n",
              "  'clothing',\n",
              "  'animal',\n",
              "  'body_part',\n",
              "  'tool',\n",
              "  'clothing',\n",
              "  'clothing',\n",
              "  'clothing',\n",
              "  'profession',\n",
              "  'clothing',\n",
              "  'clothing',\n",
              "  'clothing',\n",
              "  'clothing',\n",
              "  'music'],\n",
              " 22: ['bird',\n",
              "  'insect',\n",
              "  'insect',\n",
              "  'fish',\n",
              "  'fish',\n",
              "  'bird',\n",
              "  'bird',\n",
              "  'fish',\n",
              "  'fish',\n",
              "  'weapon',\n",
              "  'landscape',\n",
              "  'bird',\n",
              "  'bird',\n",
              "  'bird',\n",
              "  'animal'],\n",
              " 23: ['landscape',\n",
              "  'disaster',\n",
              "  'disaster',\n",
              "  'disaster',\n",
              "  'disaster',\n",
              "  'disaster',\n",
              "  'disaster',\n",
              "  'disaster',\n",
              "  'disaster',\n",
              "  'disaster',\n",
              "  'disaster',\n",
              "  'disaster',\n",
              "  'disaster',\n",
              "  'landscape',\n",
              "  'landscape',\n",
              "  'disaster',\n",
              "  'disaster',\n",
              "  'disaster',\n",
              "  'drink_non_alcoholic']}"
            ]
          },
          "metadata": {},
          "execution_count": 44
        }
      ]
    },
    {
      "cell_type": "code",
      "source": [
        "BERT_cluster_dict3"
      ],
      "metadata": {
        "id": "QH_cmQpxZxkS",
        "colab": {
          "base_uri": "https://localhost:8080/"
        },
        "outputId": "1e2f4777-2945-47ee-b3c0-53c37d9476a8"
      },
      "execution_count": null,
      "outputs": [
        {
          "output_type": "execute_result",
          "data": {
            "text/plain": [
              "{0: ['bird',\n",
              "  'disaster',\n",
              "  'disaster',\n",
              "  'disaster',\n",
              "  'disaster',\n",
              "  'animal',\n",
              "  'animal',\n",
              "  'animal',\n",
              "  'body_part',\n",
              "  'weapon'],\n",
              " 1: ['music',\n",
              "  'weapon',\n",
              "  'human',\n",
              "  'body_part',\n",
              "  'place',\n",
              "  'body_part',\n",
              "  'body_part',\n",
              "  'building_part',\n",
              "  'building_part',\n",
              "  'landscape',\n",
              "  'human',\n",
              "  'human',\n",
              "  'crime'],\n",
              " 2: ['vehicles_transport',\n",
              "  'weapon',\n",
              "  'landscape',\n",
              "  'kitchen_utensil',\n",
              "  'dwelling',\n",
              "  'dwelling',\n",
              "  'dwelling',\n",
              "  'kitchen_utensil',\n",
              "  'dwelling',\n",
              "  'human',\n",
              "  'human',\n",
              "  'drink_non_alcoholic',\n",
              "  'drink_non_alcoholic',\n",
              "  'bird'],\n",
              " 3: ['music',\n",
              "  'dwelling',\n",
              "  'fruit',\n",
              "  'vegetable',\n",
              "  'insect',\n",
              "  'insect',\n",
              "  'crime',\n",
              "  'kitchen_utensil',\n",
              "  'place',\n",
              "  'dwelling',\n",
              "  'vegetable',\n",
              "  'insect'],\n",
              " 4: ['insect',\n",
              "  'profession',\n",
              "  'furniture',\n",
              "  'bird',\n",
              "  'body_part',\n",
              "  'body_part',\n",
              "  'landscape',\n",
              "  'kitchen_utensil',\n",
              "  'kitchen_utensil',\n",
              "  'vegetable',\n",
              "  'body_part'],\n",
              " 5: ['crime',\n",
              "  'crime',\n",
              "  'appliance',\n",
              "  'bird',\n",
              "  'body_part',\n",
              "  'body_part',\n",
              "  'dwelling',\n",
              "  'place',\n",
              "  'drink_non_alcoholic'],\n",
              " 6: ['profession',\n",
              "  'animal',\n",
              "  'animal',\n",
              "  'animal',\n",
              "  'animal',\n",
              "  'furniture',\n",
              "  'furniture',\n",
              "  'furniture',\n",
              "  'kitchen_utensil',\n",
              "  'kitchen_utensil',\n",
              "  'vegetable',\n",
              "  'bird'],\n",
              " 7: ['dwelling',\n",
              "  'landscape',\n",
              "  'landscape',\n",
              "  'body_part',\n",
              "  'body_part',\n",
              "  'kitchen_utensil',\n",
              "  'kitchen_utensil',\n",
              "  'kitchen_utensil',\n",
              "  'kitchen_utensil',\n",
              "  'crime',\n",
              "  'crime',\n",
              "  'crime',\n",
              "  'drink_non_alcoholic',\n",
              "  'drink_non_alcoholic',\n",
              "  'drink_non_alcoholic',\n",
              "  'bird'],\n",
              " 8: ['crime', 'furniture', 'furniture', 'profession', 'dwelling'],\n",
              " 9: ['fruit',\n",
              "  'profession',\n",
              "  'profession',\n",
              "  'appliance',\n",
              "  'appliance',\n",
              "  'appliance',\n",
              "  'human',\n",
              "  'human',\n",
              "  'human',\n",
              "  'building_part'],\n",
              " 10: ['furniture',\n",
              "  'music',\n",
              "  'music',\n",
              "  'music',\n",
              "  'fish',\n",
              "  'fish',\n",
              "  'fish',\n",
              "  'fish',\n",
              "  'drink_non_alcoholic',\n",
              "  'kitchen_utensil'],\n",
              " 11: ['vehicles_transport',\n",
              "  'clothing',\n",
              "  'tool',\n",
              "  'tool',\n",
              "  'tool',\n",
              "  'tool',\n",
              "  'weapon',\n",
              "  'weapon',\n",
              "  'weapon'],\n",
              " 12: ['crime',\n",
              "  'vehicles_transport',\n",
              "  'vehicles_transport',\n",
              "  'weapon',\n",
              "  'profession',\n",
              "  'drink_non_alcoholic',\n",
              "  'landscape',\n",
              "  'landscape',\n",
              "  'landscape',\n",
              "  'clothing'],\n",
              " 13: ['music', 'music', 'dwelling', 'dwelling', 'dwelling', 'fruit'],\n",
              " 14: ['vegetable',\n",
              "  'vegetable',\n",
              "  'insect',\n",
              "  'profession',\n",
              "  'body_part',\n",
              "  'place',\n",
              "  'place',\n",
              "  'disaster',\n",
              "  'disaster',\n",
              "  'disaster',\n",
              "  'disaster',\n",
              "  'building_part',\n",
              "  'clothing',\n",
              "  'kitchen_utensil',\n",
              "  'dwelling'],\n",
              " 15: ['furniture',\n",
              "  'insect',\n",
              "  'insect',\n",
              "  'insect',\n",
              "  'vehicles_transport',\n",
              "  'vehicles_transport',\n",
              "  'vehicles_transport',\n",
              "  'vehicles_transport',\n",
              "  'profession',\n",
              "  'vegetable',\n",
              "  'vegetable',\n",
              "  'dwelling'],\n",
              " 16: ['weapon',\n",
              "  'crime',\n",
              "  'crime',\n",
              "  'disaster',\n",
              "  'bird',\n",
              "  'body_part',\n",
              "  'body_part',\n",
              "  'body_part',\n",
              "  'body_part'],\n",
              " 17: ['drink_non_alcoholic',\n",
              "  'crime',\n",
              "  'disaster',\n",
              "  'disaster',\n",
              "  'disaster',\n",
              "  'place',\n",
              "  'human',\n",
              "  'place'],\n",
              " 18: ['music',\n",
              "  'building_part',\n",
              "  'building_part',\n",
              "  'building_part',\n",
              "  'building_part',\n",
              "  'clothing',\n",
              "  'clothing',\n",
              "  'clothing',\n",
              "  'clothing',\n",
              "  'landscape',\n",
              "  'kitchen_utensil',\n",
              "  'human'],\n",
              " 19: ['fruit',\n",
              "  'fruit',\n",
              "  'fruit',\n",
              "  'fruit',\n",
              "  'fruit',\n",
              "  'furniture',\n",
              "  'insect',\n",
              "  'drink_non_alcoholic',\n",
              "  'landscape',\n",
              "  'furniture',\n",
              "  'furniture',\n",
              "  'furniture'],\n",
              " 20: ['animal', 'dwelling', 'dwelling', 'kitchen_utensil'],\n",
              " 21: ['human',\n",
              "  'human',\n",
              "  'drink_non_alcoholic',\n",
              "  'drink_non_alcoholic',\n",
              "  'insect',\n",
              "  'insect',\n",
              "  'landscape',\n",
              "  'landscape'],\n",
              " 22: ['kitchen_utensil',\n",
              "  'clothing',\n",
              "  'animal',\n",
              "  'animal',\n",
              "  'animal',\n",
              "  'animal',\n",
              "  'place',\n",
              "  'place',\n",
              "  'place',\n",
              "  'insect'],\n",
              " 23: ['vegetable', 'vegetable', 'vegetable', 'vegetable', 'place', 'place']}"
            ]
          },
          "metadata": {},
          "execution_count": 45
        }
      ]
    }
  ]
}